{
 "cells": [
  {
   "cell_type": "code",
   "execution_count": 1,
   "metadata": {},
   "outputs": [],
   "source": [
    "# Background Subtraction using OpenCV \n",
    "import numpy as np \n",
    "import cv2 \n",
    "\n",
    "cap = cv2.VideoCapture(0) \n",
    "bgs = cv2.createBackgroundSubtractorMOG2(history = 500, varThreshold = 20, detectShadows = True) \n",
    "\n",
    "while(1): \n",
    "    ret, frame = cap.read() \n",
    "    frame = cv2.flip(frame, 1)\n",
    "    fmask = bgs.apply(frame) \n",
    "\n",
    "    ret, threshold = cv2.threshold(fmask, 0, 255, cv2.THRESH_BINARY_INV + cv2.THRESH_OTSU) \n",
    "    \n",
    "    kernel = np.ones((5,5),np.uint8)\n",
    "    e = cv2.dilate(fmask,kernel,iterations = 1)\n",
    "    \n",
    "    gray = cv2.cvtColor(frame, cv2.COLOR_BGR2GRAY)\n",
    "    edged = cv2.Canny(gray, 30, 200)\n",
    "    \n",
    "\n",
    "    cv2.imshow('Input', frame) \n",
    "    cv2.imshow('Edges', edged)\n",
    "    cv2.imshow('Foreground', fmask)\n",
    "\n",
    "    k = cv2.waitKey(30) & 0xff\n",
    "    if k == 27: \n",
    "        break\n",
    "    \n",
    "\n",
    "cap.release() \n",
    "cv2.destroyAllWindows()"
   ]
  },
  {
   "cell_type": "code",
   "execution_count": null,
   "metadata": {},
   "outputs": [],
   "source": []
  }
 ],
 "metadata": {
  "kernelspec": {
   "display_name": "Python 3",
   "language": "python",
   "name": "python3"
  },
  "language_info": {
   "codemirror_mode": {
    "name": "ipython",
    "version": 3
   },
   "file_extension": ".py",
   "mimetype": "text/x-python",
   "name": "python",
   "nbconvert_exporter": "python",
   "pygments_lexer": "ipython3",
   "version": "3.7.4"
  }
 },
 "nbformat": 4,
 "nbformat_minor": 2
}
